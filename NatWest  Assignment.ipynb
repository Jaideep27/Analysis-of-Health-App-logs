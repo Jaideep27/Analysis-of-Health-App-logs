{
 "cells": [
  {
   "cell_type": "code",
   "execution_count": 1,
   "metadata": {},
   "outputs": [],
   "source": [
    "import pandas as pd\n",
    "import numpy as np"
   ]
  },
  {
   "cell_type": "code",
   "execution_count": 2,
   "metadata": {},
   "outputs": [
    {
     "data": {
      "text/html": [
       "<div>\n",
       "<style scoped>\n",
       "    .dataframe tbody tr th:only-of-type {\n",
       "        vertical-align: middle;\n",
       "    }\n",
       "\n",
       "    .dataframe tbody tr th {\n",
       "        vertical-align: top;\n",
       "    }\n",
       "\n",
       "    .dataframe thead th {\n",
       "        text-align: right;\n",
       "    }\n",
       "</style>\n",
       "<table border=\"1\" class=\"dataframe\">\n",
       "  <thead>\n",
       "    <tr style=\"text-align: right;\">\n",
       "      <th></th>\n",
       "      <th>LineId</th>\n",
       "      <th>Time</th>\n",
       "      <th>Component</th>\n",
       "      <th>Pid</th>\n",
       "      <th>Content</th>\n",
       "      <th>EventId</th>\n",
       "      <th>EventTemplate</th>\n",
       "    </tr>\n",
       "  </thead>\n",
       "  <tbody>\n",
       "    <tr>\n",
       "      <th>0</th>\n",
       "      <td>1</td>\n",
       "      <td>20171223-22:15:29:606</td>\n",
       "      <td>Step_LSC</td>\n",
       "      <td>30002312</td>\n",
       "      <td>onStandStepChanged 3579</td>\n",
       "      <td>E42</td>\n",
       "      <td>onStandStepChanged &lt;*&gt;</td>\n",
       "    </tr>\n",
       "    <tr>\n",
       "      <th>1</th>\n",
       "      <td>2</td>\n",
       "      <td>20171223-22:15:29:615</td>\n",
       "      <td>Step_LSC</td>\n",
       "      <td>30002312</td>\n",
       "      <td>onExtend:1514038530000 14 0 4</td>\n",
       "      <td>E39</td>\n",
       "      <td>onExtend:&lt;*&gt; &lt;*&gt; &lt;*&gt; &lt;*&gt;</td>\n",
       "    </tr>\n",
       "    <tr>\n",
       "      <th>2</th>\n",
       "      <td>3</td>\n",
       "      <td>20171223-22:15:29:633</td>\n",
       "      <td>Step_StandReportReceiver</td>\n",
       "      <td>30002312</td>\n",
       "      <td>onReceive action: android.intent.action.SCREEN_ON</td>\n",
       "      <td>E41</td>\n",
       "      <td>onReceive action: android.intent.action.SCREEN_ON</td>\n",
       "    </tr>\n",
       "    <tr>\n",
       "      <th>3</th>\n",
       "      <td>4</td>\n",
       "      <td>20171223-22:15:29:635</td>\n",
       "      <td>Step_LSC</td>\n",
       "      <td>30002312</td>\n",
       "      <td>processHandleBroadcastAction action:android.in...</td>\n",
       "      <td>E43</td>\n",
       "      <td>processHandleBroadcastAction action:android.in...</td>\n",
       "    </tr>\n",
       "    <tr>\n",
       "      <th>4</th>\n",
       "      <td>5</td>\n",
       "      <td>20171223-22:15:29:635</td>\n",
       "      <td>Step_StandStepCounter</td>\n",
       "      <td>30002312</td>\n",
       "      <td>flush sensor data</td>\n",
       "      <td>E12</td>\n",
       "      <td>flush sensor data</td>\n",
       "    </tr>\n",
       "    <tr>\n",
       "      <th>5</th>\n",
       "      <td>6</td>\n",
       "      <td>20171223-22:15:29:635</td>\n",
       "      <td>Step_SPUtils</td>\n",
       "      <td>30002312</td>\n",
       "      <td>getTodayTotalDetailSteps = 1514038440000##699...</td>\n",
       "      <td>E22</td>\n",
       "      <td>getTodayTotalDetailSteps = &lt;*&gt;##&lt;*&gt;##&lt;*&gt;##&lt;*&gt;#...</td>\n",
       "    </tr>\n",
       "    <tr>\n",
       "      <th>6</th>\n",
       "      <td>7</td>\n",
       "      <td>20171223-22:15:29:636</td>\n",
       "      <td>Step_SPUtils</td>\n",
       "      <td>30002312</td>\n",
       "      <td>setTodayTotalDetailSteps=1514038440000##7007##...</td>\n",
       "      <td>E58</td>\n",
       "      <td>setTodayTotalDetailSteps=&lt;*&gt;</td>\n",
       "    </tr>\n",
       "    <tr>\n",
       "      <th>7</th>\n",
       "      <td>8</td>\n",
       "      <td>20171223-22:15:29:636</td>\n",
       "      <td>Step_LSC</td>\n",
       "      <td>30002312</td>\n",
       "      <td>onStandStepChanged 3579</td>\n",
       "      <td>E42</td>\n",
       "      <td>onStandStepChanged &lt;*&gt;</td>\n",
       "    </tr>\n",
       "    <tr>\n",
       "      <th>8</th>\n",
       "      <td>9</td>\n",
       "      <td>20171223-22:15:29:645</td>\n",
       "      <td>Step_ExtSDM</td>\n",
       "      <td>30002312</td>\n",
       "      <td>calculateCaloriesWithCache totalCalories=126775</td>\n",
       "      <td>E4</td>\n",
       "      <td>calculateCaloriesWithCache totalCalories=&lt;*&gt;</td>\n",
       "    </tr>\n",
       "    <tr>\n",
       "      <th>9</th>\n",
       "      <td>10</td>\n",
       "      <td>20171223-22:15:29:648</td>\n",
       "      <td>Step_ExtSDM</td>\n",
       "      <td>30002312</td>\n",
       "      <td>calculateAltitudeWithCache totalAltitude=240</td>\n",
       "      <td>E3</td>\n",
       "      <td>calculateAltitudeWithCache totalAltitude=&lt;*&gt;</td>\n",
       "    </tr>\n",
       "    <tr>\n",
       "      <th>10</th>\n",
       "      <td>11</td>\n",
       "      <td>20171223-22:15:29:649</td>\n",
       "      <td>Step_StandReportReceiver</td>\n",
       "      <td>30002312</td>\n",
       "      <td>REPORT : 7007 5002 150089 240</td>\n",
       "      <td>E47</td>\n",
       "      <td>REPORT : &lt;*&gt; &lt;*&gt; &lt;*&gt; &lt;*&gt;</td>\n",
       "    </tr>\n",
       "    <tr>\n",
       "      <th>11</th>\n",
       "      <td>12</td>\n",
       "      <td>20171223-22:15:29:737</td>\n",
       "      <td>Step_LSC</td>\n",
       "      <td>30002312</td>\n",
       "      <td>onExtend:1514038530000 0 0 4</td>\n",
       "      <td>E39</td>\n",
       "      <td>onExtend:&lt;*&gt; &lt;*&gt; &lt;*&gt; &lt;*&gt;</td>\n",
       "    </tr>\n",
       "    <tr>\n",
       "      <th>12</th>\n",
       "      <td>13</td>\n",
       "      <td>20171223-22:15:29:738</td>\n",
       "      <td>Step_LSC</td>\n",
       "      <td>30002312</td>\n",
       "      <td>onStandStepChanged 3579</td>\n",
       "      <td>E42</td>\n",
       "      <td>onStandStepChanged &lt;*&gt;</td>\n",
       "    </tr>\n",
       "    <tr>\n",
       "      <th>13</th>\n",
       "      <td>14</td>\n",
       "      <td>20171223-22:15:29:792</td>\n",
       "      <td>Step_LSC</td>\n",
       "      <td>30002312</td>\n",
       "      <td>onStandStepChanged 3580</td>\n",
       "      <td>E42</td>\n",
       "      <td>onStandStepChanged &lt;*&gt;</td>\n",
       "    </tr>\n",
       "    <tr>\n",
       "      <th>14</th>\n",
       "      <td>15</td>\n",
       "      <td>20171223-22:15:29:800</td>\n",
       "      <td>Step_LSC</td>\n",
       "      <td>30002312</td>\n",
       "      <td>onExtend:1514038530000 1 0 4</td>\n",
       "      <td>E39</td>\n",
       "      <td>onExtend:&lt;*&gt; &lt;*&gt; &lt;*&gt; &lt;*&gt;</td>\n",
       "    </tr>\n",
       "    <tr>\n",
       "      <th>15</th>\n",
       "      <td>16</td>\n",
       "      <td>20171223-22:15:29:950</td>\n",
       "      <td>Step_SPUtils</td>\n",
       "      <td>30002312</td>\n",
       "      <td>getTodayTotalDetailSteps = 1514038440000##700...</td>\n",
       "      <td>E22</td>\n",
       "      <td>getTodayTotalDetailSteps = &lt;*&gt;##&lt;*&gt;##&lt;*&gt;##&lt;*&gt;#...</td>\n",
       "    </tr>\n",
       "    <tr>\n",
       "      <th>16</th>\n",
       "      <td>17</td>\n",
       "      <td>20171223-22:15:29:950</td>\n",
       "      <td>Step_SPUtils</td>\n",
       "      <td>30002312</td>\n",
       "      <td>setTodayTotalDetailSteps=1514038440000##7008##...</td>\n",
       "      <td>E58</td>\n",
       "      <td>setTodayTotalDetailSteps=&lt;*&gt;</td>\n",
       "    </tr>\n",
       "    <tr>\n",
       "      <th>17</th>\n",
       "      <td>18</td>\n",
       "      <td>20171223-22:15:29:959</td>\n",
       "      <td>Step_ExtSDM</td>\n",
       "      <td>30002312</td>\n",
       "      <td>calculateCaloriesWithCache totalCalories=126797</td>\n",
       "      <td>E4</td>\n",
       "      <td>calculateCaloriesWithCache totalCalories=&lt;*&gt;</td>\n",
       "    </tr>\n",
       "    <tr>\n",
       "      <th>18</th>\n",
       "      <td>19</td>\n",
       "      <td>20171223-22:15:29:962</td>\n",
       "      <td>Step_ExtSDM</td>\n",
       "      <td>30002312</td>\n",
       "      <td>calculateAltitudeWithCache totalAltitude=240</td>\n",
       "      <td>E3</td>\n",
       "      <td>calculateAltitudeWithCache totalAltitude=&lt;*&gt;</td>\n",
       "    </tr>\n",
       "    <tr>\n",
       "      <th>19</th>\n",
       "      <td>20</td>\n",
       "      <td>20171223-22:15:29:962</td>\n",
       "      <td>Step_StandReportReceiver</td>\n",
       "      <td>30002312</td>\n",
       "      <td>REPORT : 7008 5003 150111 240</td>\n",
       "      <td>E47</td>\n",
       "      <td>REPORT : &lt;*&gt; &lt;*&gt; &lt;*&gt; &lt;*&gt;</td>\n",
       "    </tr>\n",
       "  </tbody>\n",
       "</table>\n",
       "</div>"
      ],
      "text/plain": [
       "    LineId                   Time                 Component       Pid  \\\n",
       "0        1  20171223-22:15:29:606                  Step_LSC  30002312   \n",
       "1        2  20171223-22:15:29:615                  Step_LSC  30002312   \n",
       "2        3  20171223-22:15:29:633  Step_StandReportReceiver  30002312   \n",
       "3        4  20171223-22:15:29:635                  Step_LSC  30002312   \n",
       "4        5  20171223-22:15:29:635     Step_StandStepCounter  30002312   \n",
       "5        6  20171223-22:15:29:635              Step_SPUtils  30002312   \n",
       "6        7  20171223-22:15:29:636              Step_SPUtils  30002312   \n",
       "7        8  20171223-22:15:29:636                  Step_LSC  30002312   \n",
       "8        9  20171223-22:15:29:645               Step_ExtSDM  30002312   \n",
       "9       10  20171223-22:15:29:648               Step_ExtSDM  30002312   \n",
       "10      11  20171223-22:15:29:649  Step_StandReportReceiver  30002312   \n",
       "11      12  20171223-22:15:29:737                  Step_LSC  30002312   \n",
       "12      13  20171223-22:15:29:738                  Step_LSC  30002312   \n",
       "13      14  20171223-22:15:29:792                  Step_LSC  30002312   \n",
       "14      15  20171223-22:15:29:800                  Step_LSC  30002312   \n",
       "15      16  20171223-22:15:29:950              Step_SPUtils  30002312   \n",
       "16      17  20171223-22:15:29:950              Step_SPUtils  30002312   \n",
       "17      18  20171223-22:15:29:959               Step_ExtSDM  30002312   \n",
       "18      19  20171223-22:15:29:962               Step_ExtSDM  30002312   \n",
       "19      20  20171223-22:15:29:962  Step_StandReportReceiver  30002312   \n",
       "\n",
       "                                              Content EventId  \\\n",
       "0                             onStandStepChanged 3579     E42   \n",
       "1                       onExtend:1514038530000 14 0 4     E39   \n",
       "2   onReceive action: android.intent.action.SCREEN_ON     E41   \n",
       "3   processHandleBroadcastAction action:android.in...     E43   \n",
       "4                                   flush sensor data     E12   \n",
       "5    getTodayTotalDetailSteps = 1514038440000##699...     E22   \n",
       "6   setTodayTotalDetailSteps=1514038440000##7007##...     E58   \n",
       "7                             onStandStepChanged 3579     E42   \n",
       "8     calculateCaloriesWithCache totalCalories=126775      E4   \n",
       "9        calculateAltitudeWithCache totalAltitude=240      E3   \n",
       "10                      REPORT : 7007 5002 150089 240     E47   \n",
       "11                       onExtend:1514038530000 0 0 4     E39   \n",
       "12                            onStandStepChanged 3579     E42   \n",
       "13                            onStandStepChanged 3580     E42   \n",
       "14                       onExtend:1514038530000 1 0 4     E39   \n",
       "15   getTodayTotalDetailSteps = 1514038440000##700...     E22   \n",
       "16  setTodayTotalDetailSteps=1514038440000##7008##...     E58   \n",
       "17    calculateCaloriesWithCache totalCalories=126797      E4   \n",
       "18       calculateAltitudeWithCache totalAltitude=240      E3   \n",
       "19                      REPORT : 7008 5003 150111 240     E47   \n",
       "\n",
       "                                        EventTemplate  \n",
       "0                              onStandStepChanged <*>  \n",
       "1                            onExtend:<*> <*> <*> <*>  \n",
       "2   onReceive action: android.intent.action.SCREEN_ON  \n",
       "3   processHandleBroadcastAction action:android.in...  \n",
       "4                                   flush sensor data  \n",
       "5   getTodayTotalDetailSteps = <*>##<*>##<*>##<*>#...  \n",
       "6                        setTodayTotalDetailSteps=<*>  \n",
       "7                              onStandStepChanged <*>  \n",
       "8        calculateCaloriesWithCache totalCalories=<*>  \n",
       "9        calculateAltitudeWithCache totalAltitude=<*>  \n",
       "10                           REPORT : <*> <*> <*> <*>  \n",
       "11                           onExtend:<*> <*> <*> <*>  \n",
       "12                             onStandStepChanged <*>  \n",
       "13                             onStandStepChanged <*>  \n",
       "14                           onExtend:<*> <*> <*> <*>  \n",
       "15  getTodayTotalDetailSteps = <*>##<*>##<*>##<*>#...  \n",
       "16                       setTodayTotalDetailSteps=<*>  \n",
       "17       calculateCaloriesWithCache totalCalories=<*>  \n",
       "18       calculateAltitudeWithCache totalAltitude=<*>  \n",
       "19                           REPORT : <*> <*> <*> <*>  "
      ]
     },
     "execution_count": 2,
     "metadata": {},
     "output_type": "execute_result"
    }
   ],
   "source": [
    "data = pd.read_csv(\"HealthApp_2k.log_structured.csv\")\n",
    "data.head(20)"
   ]
  },
  {
   "cell_type": "code",
   "execution_count": 3,
   "metadata": {},
   "outputs": [
    {
     "data": {
      "text/html": [
       "<div>\n",
       "<style scoped>\n",
       "    .dataframe tbody tr th:only-of-type {\n",
       "        vertical-align: middle;\n",
       "    }\n",
       "\n",
       "    .dataframe tbody tr th {\n",
       "        vertical-align: top;\n",
       "    }\n",
       "\n",
       "    .dataframe thead th {\n",
       "        text-align: right;\n",
       "    }\n",
       "</style>\n",
       "<table border=\"1\" class=\"dataframe\">\n",
       "  <thead>\n",
       "    <tr style=\"text-align: right;\">\n",
       "      <th></th>\n",
       "      <th>LineId</th>\n",
       "      <th>Time</th>\n",
       "      <th>Component</th>\n",
       "      <th>Pid</th>\n",
       "      <th>Content</th>\n",
       "      <th>EventId</th>\n",
       "      <th>EventTemplate</th>\n",
       "    </tr>\n",
       "  </thead>\n",
       "  <tbody>\n",
       "    <tr>\n",
       "      <th>1990</th>\n",
       "      <td>1991</td>\n",
       "      <td>20171224-0:49:29:380</td>\n",
       "      <td>Step_LSC</td>\n",
       "      <td>30002312</td>\n",
       "      <td>processHandleBroadcastAction action:android.in...</td>\n",
       "      <td>E44</td>\n",
       "      <td>processHandleBroadcastAction action:android.in...</td>\n",
       "    </tr>\n",
       "    <tr>\n",
       "      <th>1991</th>\n",
       "      <td>1992</td>\n",
       "      <td>20171224-0:51:1:747</td>\n",
       "      <td>Step_LSC</td>\n",
       "      <td>30002312</td>\n",
       "      <td>processHandleBroadcastAction action:android.in...</td>\n",
       "      <td>E44</td>\n",
       "      <td>processHandleBroadcastAction action:android.in...</td>\n",
       "    </tr>\n",
       "    <tr>\n",
       "      <th>1992</th>\n",
       "      <td>1993</td>\n",
       "      <td>20171224-0:52:20:752</td>\n",
       "      <td>Step_LSC</td>\n",
       "      <td>30002312</td>\n",
       "      <td>processHandleBroadcastAction action:android.in...</td>\n",
       "      <td>E44</td>\n",
       "      <td>processHandleBroadcastAction action:android.in...</td>\n",
       "    </tr>\n",
       "    <tr>\n",
       "      <th>1993</th>\n",
       "      <td>1994</td>\n",
       "      <td>20171224-0:53:59:235</td>\n",
       "      <td>Step_LSC</td>\n",
       "      <td>30002312</td>\n",
       "      <td>processHandleBroadcastAction action:android.in...</td>\n",
       "      <td>E44</td>\n",
       "      <td>processHandleBroadcastAction action:android.in...</td>\n",
       "    </tr>\n",
       "    <tr>\n",
       "      <th>1994</th>\n",
       "      <td>1995</td>\n",
       "      <td>20171224-0:55:32:22</td>\n",
       "      <td>Step_LSC</td>\n",
       "      <td>30002312</td>\n",
       "      <td>processHandleBroadcastAction action:android.in...</td>\n",
       "      <td>E44</td>\n",
       "      <td>processHandleBroadcastAction action:android.in...</td>\n",
       "    </tr>\n",
       "    <tr>\n",
       "      <th>1995</th>\n",
       "      <td>1996</td>\n",
       "      <td>20171224-0:58:53:985</td>\n",
       "      <td>Step_LSC</td>\n",
       "      <td>30002312</td>\n",
       "      <td>processHandleBroadcastAction action:android.in...</td>\n",
       "      <td>E44</td>\n",
       "      <td>processHandleBroadcastAction action:android.in...</td>\n",
       "    </tr>\n",
       "    <tr>\n",
       "      <th>1996</th>\n",
       "      <td>1997</td>\n",
       "      <td>20171224-0:59:7:581</td>\n",
       "      <td>Step_LSC</td>\n",
       "      <td>30002312</td>\n",
       "      <td>processHandleBroadcastAction action:android.in...</td>\n",
       "      <td>E44</td>\n",
       "      <td>processHandleBroadcastAction action:android.in...</td>\n",
       "    </tr>\n",
       "    <tr>\n",
       "      <th>1997</th>\n",
       "      <td>1998</td>\n",
       "      <td>20171224-1:0:0:794</td>\n",
       "      <td>Step_LSC</td>\n",
       "      <td>30002312</td>\n",
       "      <td>processHandleBroadcastAction action:android.in...</td>\n",
       "      <td>E44</td>\n",
       "      <td>processHandleBroadcastAction action:android.in...</td>\n",
       "    </tr>\n",
       "    <tr>\n",
       "      <th>1998</th>\n",
       "      <td>1999</td>\n",
       "      <td>20171224-1:1:0:935</td>\n",
       "      <td>Step_LSC</td>\n",
       "      <td>30002312</td>\n",
       "      <td>processHandleBroadcastAction action:android.in...</td>\n",
       "      <td>E44</td>\n",
       "      <td>processHandleBroadcastAction action:android.in...</td>\n",
       "    </tr>\n",
       "    <tr>\n",
       "      <th>1999</th>\n",
       "      <td>2000</td>\n",
       "      <td>20171224-1:2:35:789</td>\n",
       "      <td>Step_LSC</td>\n",
       "      <td>30002312</td>\n",
       "      <td>processHandleBroadcastAction action:android.in...</td>\n",
       "      <td>E44</td>\n",
       "      <td>processHandleBroadcastAction action:android.in...</td>\n",
       "    </tr>\n",
       "  </tbody>\n",
       "</table>\n",
       "</div>"
      ],
      "text/plain": [
       "      LineId                  Time Component       Pid  \\\n",
       "1990    1991  20171224-0:49:29:380  Step_LSC  30002312   \n",
       "1991    1992   20171224-0:51:1:747  Step_LSC  30002312   \n",
       "1992    1993  20171224-0:52:20:752  Step_LSC  30002312   \n",
       "1993    1994  20171224-0:53:59:235  Step_LSC  30002312   \n",
       "1994    1995   20171224-0:55:32:22  Step_LSC  30002312   \n",
       "1995    1996  20171224-0:58:53:985  Step_LSC  30002312   \n",
       "1996    1997   20171224-0:59:7:581  Step_LSC  30002312   \n",
       "1997    1998    20171224-1:0:0:794  Step_LSC  30002312   \n",
       "1998    1999    20171224-1:1:0:935  Step_LSC  30002312   \n",
       "1999    2000   20171224-1:2:35:789  Step_LSC  30002312   \n",
       "\n",
       "                                                Content EventId  \\\n",
       "1990  processHandleBroadcastAction action:android.in...     E44   \n",
       "1991  processHandleBroadcastAction action:android.in...     E44   \n",
       "1992  processHandleBroadcastAction action:android.in...     E44   \n",
       "1993  processHandleBroadcastAction action:android.in...     E44   \n",
       "1994  processHandleBroadcastAction action:android.in...     E44   \n",
       "1995  processHandleBroadcastAction action:android.in...     E44   \n",
       "1996  processHandleBroadcastAction action:android.in...     E44   \n",
       "1997  processHandleBroadcastAction action:android.in...     E44   \n",
       "1998  processHandleBroadcastAction action:android.in...     E44   \n",
       "1999  processHandleBroadcastAction action:android.in...     E44   \n",
       "\n",
       "                                          EventTemplate  \n",
       "1990  processHandleBroadcastAction action:android.in...  \n",
       "1991  processHandleBroadcastAction action:android.in...  \n",
       "1992  processHandleBroadcastAction action:android.in...  \n",
       "1993  processHandleBroadcastAction action:android.in...  \n",
       "1994  processHandleBroadcastAction action:android.in...  \n",
       "1995  processHandleBroadcastAction action:android.in...  \n",
       "1996  processHandleBroadcastAction action:android.in...  \n",
       "1997  processHandleBroadcastAction action:android.in...  \n",
       "1998  processHandleBroadcastAction action:android.in...  \n",
       "1999  processHandleBroadcastAction action:android.in...  "
      ]
     },
     "execution_count": 3,
     "metadata": {},
     "output_type": "execute_result"
    }
   ],
   "source": [
    "data.tail(10)"
   ]
  },
  {
   "cell_type": "code",
   "execution_count": 4,
   "metadata": {},
   "outputs": [
    {
     "data": {
      "text/html": [
       "<div>\n",
       "<style scoped>\n",
       "    .dataframe tbody tr th:only-of-type {\n",
       "        vertical-align: middle;\n",
       "    }\n",
       "\n",
       "    .dataframe tbody tr th {\n",
       "        vertical-align: top;\n",
       "    }\n",
       "\n",
       "    .dataframe thead th {\n",
       "        text-align: right;\n",
       "    }\n",
       "</style>\n",
       "<table border=\"1\" class=\"dataframe\">\n",
       "  <thead>\n",
       "    <tr style=\"text-align: right;\">\n",
       "      <th></th>\n",
       "      <th>EventId</th>\n",
       "      <th>EventTemplate</th>\n",
       "    </tr>\n",
       "  </thead>\n",
       "  <tbody>\n",
       "    <tr>\n",
       "      <th>0</th>\n",
       "      <td>E1</td>\n",
       "      <td>Alarm uploadStaticsToDB totalSteps=&lt;*&gt;:&lt;*&gt;:&lt;*&gt;...</td>\n",
       "    </tr>\n",
       "    <tr>\n",
       "      <th>1</th>\n",
       "      <td>E2</td>\n",
       "      <td>bulkSaveDetailHiHealthData() size = &lt;*&gt;,totalT...</td>\n",
       "    </tr>\n",
       "    <tr>\n",
       "      <th>2</th>\n",
       "      <td>E3</td>\n",
       "      <td>calculateAltitudeWithCache totalAltitude=&lt;*&gt;</td>\n",
       "    </tr>\n",
       "    <tr>\n",
       "      <th>3</th>\n",
       "      <td>E4</td>\n",
       "      <td>calculateCaloriesWithCache totalCalories=&lt;*&gt;</td>\n",
       "    </tr>\n",
       "    <tr>\n",
       "      <th>4</th>\n",
       "      <td>E5</td>\n",
       "      <td>checkCurrentDay a new day comes , reset basicS...</td>\n",
       "    </tr>\n",
       "    <tr>\n",
       "      <th>...</th>\n",
       "      <td>...</td>\n",
       "      <td>...</td>\n",
       "    </tr>\n",
       "    <tr>\n",
       "      <th>70</th>\n",
       "      <td>E71</td>\n",
       "      <td>tryToReloadTodayBasicSteps&lt;*&gt;|&lt;*&gt;|&lt;*&gt;|&lt;*&gt;</td>\n",
       "    </tr>\n",
       "    <tr>\n",
       "      <th>71</th>\n",
       "      <td>E72</td>\n",
       "      <td>upLoadOneMinuteDataToEngine time=&lt;*&gt;,&lt;*&gt;,&lt;*&gt;,&lt;...</td>\n",
       "    </tr>\n",
       "    <tr>\n",
       "      <th>72</th>\n",
       "      <td>E73</td>\n",
       "      <td>uploadStaticsToDB failed message=true</td>\n",
       "    </tr>\n",
       "    <tr>\n",
       "      <th>73</th>\n",
       "      <td>E74</td>\n",
       "      <td>uploadStaticsToDB() onResult  type = &lt;*&gt; obj=true</td>\n",
       "    </tr>\n",
       "    <tr>\n",
       "      <th>74</th>\n",
       "      <td>E75</td>\n",
       "      <td>writeDataToDB size &lt;*&gt;</td>\n",
       "    </tr>\n",
       "  </tbody>\n",
       "</table>\n",
       "<p>75 rows × 2 columns</p>\n",
       "</div>"
      ],
      "text/plain": [
       "   EventId                                      EventTemplate\n",
       "0       E1  Alarm uploadStaticsToDB totalSteps=<*>:<*>:<*>...\n",
       "1       E2  bulkSaveDetailHiHealthData() size = <*>,totalT...\n",
       "2       E3       calculateAltitudeWithCache totalAltitude=<*>\n",
       "3       E4       calculateCaloriesWithCache totalCalories=<*>\n",
       "4       E5  checkCurrentDay a new day comes , reset basicS...\n",
       "..     ...                                                ...\n",
       "70     E71          tryToReloadTodayBasicSteps<*>|<*>|<*>|<*>\n",
       "71     E72  upLoadOneMinuteDataToEngine time=<*>,<*>,<*>,<...\n",
       "72     E73              uploadStaticsToDB failed message=true\n",
       "73     E74  uploadStaticsToDB() onResult  type = <*> obj=true\n",
       "74     E75                             writeDataToDB size <*>\n",
       "\n",
       "[75 rows x 2 columns]"
      ]
     },
     "execution_count": 4,
     "metadata": {},
     "output_type": "execute_result"
    }
   ],
   "source": [
    "data_2 = pd.read_csv(\"HealthApp_2k.log_templates.csv\")\n",
    "data_2"
   ]
  },
  {
   "cell_type": "code",
   "execution_count": 5,
   "metadata": {},
   "outputs": [
    {
     "name": "stdout",
     "output_type": "stream",
     "text": [
      "E39    273\n",
      "E42    260\n",
      "E22    242\n",
      "E58    241\n",
      "E4     241\n",
      "E3     241\n",
      "E44    144\n",
      "E47    136\n",
      "E43     17\n",
      "E12     17\n",
      "Name: EventId, dtype: int64\n"
     ]
    }
   ],
   "source": [
    "top_event_ids = data[\"EventId\"].value_counts().head(10)\n",
    "print(top_event_ids)"
   ]
  },
  {
   "cell_type": "code",
   "execution_count": 6,
   "metadata": {},
   "outputs": [
    {
     "name": "stdout",
     "output_type": "stream",
     "text": [
      "Step_LSC                       710\n",
      "Step_SPUtils                   494\n",
      "Step_ExtSDM                    482\n",
      "Step_StandReportReceiver       171\n",
      "HiH_HiSyncControl               42\n",
      "Step_StandStepCounter           19\n",
      "HiH_DataStatManager             17\n",
      "HiH_HiHealthDataInsertStore     11\n",
      "HiH_                            10\n",
      "HiH_HiHealthBinder               9\n",
      "Name: Component, dtype: int64\n"
     ]
    }
   ],
   "source": [
    "top_Component_ids = data[\"Component\"].value_counts().head(10)\n",
    "print(top_Component_ids)"
   ]
  },
  {
   "cell_type": "code",
   "execution_count": 7,
   "metadata": {},
   "outputs": [
    {
     "name": "stdout",
     "output_type": "stream",
     "text": [
      "<class 'pandas.core.frame.DataFrame'>\n",
      "RangeIndex: 2000 entries, 0 to 1999\n",
      "Data columns (total 7 columns):\n",
      " #   Column         Non-Null Count  Dtype \n",
      "---  ------         --------------  ----- \n",
      " 0   LineId         2000 non-null   int64 \n",
      " 1   Time           2000 non-null   object\n",
      " 2   Component      2000 non-null   object\n",
      " 3   Pid            2000 non-null   int64 \n",
      " 4   Content        2000 non-null   object\n",
      " 5   EventId        2000 non-null   object\n",
      " 6   EventTemplate  2000 non-null   object\n",
      "dtypes: int64(2), object(5)\n",
      "memory usage: 109.5+ KB\n"
     ]
    }
   ],
   "source": [
    "data.info()"
   ]
  },
  {
   "cell_type": "code",
   "execution_count": 8,
   "metadata": {},
   "outputs": [
    {
     "data": {
      "text/plain": [
       "LineId           0\n",
       "Time             0\n",
       "Component        0\n",
       "Pid              0\n",
       "Content          0\n",
       "EventId          0\n",
       "EventTemplate    0\n",
       "dtype: int64"
      ]
     },
     "execution_count": 8,
     "metadata": {},
     "output_type": "execute_result"
    }
   ],
   "source": [
    "data.isnull().sum() "
   ]
  },
  {
   "cell_type": "code",
   "execution_count": 9,
   "metadata": {},
   "outputs": [
    {
     "data": {
      "text/plain": [
       "EventId          0\n",
       "EventTemplate    0\n",
       "dtype: int64"
      ]
     },
     "execution_count": 9,
     "metadata": {},
     "output_type": "execute_result"
    }
   ],
   "source": [
    "data_2.isnull().sum()"
   ]
  },
  {
   "cell_type": "code",
   "execution_count": 10,
   "metadata": {},
   "outputs": [],
   "source": [
    "data['Time'] = data['Time'].apply(lambda x: f\"{x[:4]}/{x[4:6]}/{x[6:]}\")"
   ]
  },
  {
   "cell_type": "code",
   "execution_count": 11,
   "metadata": {},
   "outputs": [
    {
     "data": {
      "text/html": [
       "<div>\n",
       "<style scoped>\n",
       "    .dataframe tbody tr th:only-of-type {\n",
       "        vertical-align: middle;\n",
       "    }\n",
       "\n",
       "    .dataframe tbody tr th {\n",
       "        vertical-align: top;\n",
       "    }\n",
       "\n",
       "    .dataframe thead th {\n",
       "        text-align: right;\n",
       "    }\n",
       "</style>\n",
       "<table border=\"1\" class=\"dataframe\">\n",
       "  <thead>\n",
       "    <tr style=\"text-align: right;\">\n",
       "      <th></th>\n",
       "      <th>LineId</th>\n",
       "      <th>Time</th>\n",
       "      <th>Component</th>\n",
       "      <th>Pid</th>\n",
       "      <th>Content</th>\n",
       "      <th>EventId</th>\n",
       "      <th>EventTemplate</th>\n",
       "    </tr>\n",
       "  </thead>\n",
       "  <tbody>\n",
       "    <tr>\n",
       "      <th>0</th>\n",
       "      <td>1</td>\n",
       "      <td>2017/12/23-22:15:29:606</td>\n",
       "      <td>Step_LSC</td>\n",
       "      <td>30002312</td>\n",
       "      <td>onStandStepChanged 3579</td>\n",
       "      <td>E42</td>\n",
       "      <td>onStandStepChanged &lt;*&gt;</td>\n",
       "    </tr>\n",
       "    <tr>\n",
       "      <th>1</th>\n",
       "      <td>2</td>\n",
       "      <td>2017/12/23-22:15:29:615</td>\n",
       "      <td>Step_LSC</td>\n",
       "      <td>30002312</td>\n",
       "      <td>onExtend:1514038530000 14 0 4</td>\n",
       "      <td>E39</td>\n",
       "      <td>onExtend:&lt;*&gt; &lt;*&gt; &lt;*&gt; &lt;*&gt;</td>\n",
       "    </tr>\n",
       "    <tr>\n",
       "      <th>2</th>\n",
       "      <td>3</td>\n",
       "      <td>2017/12/23-22:15:29:633</td>\n",
       "      <td>Step_StandReportReceiver</td>\n",
       "      <td>30002312</td>\n",
       "      <td>onReceive action: android.intent.action.SCREEN_ON</td>\n",
       "      <td>E41</td>\n",
       "      <td>onReceive action: android.intent.action.SCREEN_ON</td>\n",
       "    </tr>\n",
       "    <tr>\n",
       "      <th>3</th>\n",
       "      <td>4</td>\n",
       "      <td>2017/12/23-22:15:29:635</td>\n",
       "      <td>Step_LSC</td>\n",
       "      <td>30002312</td>\n",
       "      <td>processHandleBroadcastAction action:android.in...</td>\n",
       "      <td>E43</td>\n",
       "      <td>processHandleBroadcastAction action:android.in...</td>\n",
       "    </tr>\n",
       "    <tr>\n",
       "      <th>4</th>\n",
       "      <td>5</td>\n",
       "      <td>2017/12/23-22:15:29:635</td>\n",
       "      <td>Step_StandStepCounter</td>\n",
       "      <td>30002312</td>\n",
       "      <td>flush sensor data</td>\n",
       "      <td>E12</td>\n",
       "      <td>flush sensor data</td>\n",
       "    </tr>\n",
       "    <tr>\n",
       "      <th>...</th>\n",
       "      <td>...</td>\n",
       "      <td>...</td>\n",
       "      <td>...</td>\n",
       "      <td>...</td>\n",
       "      <td>...</td>\n",
       "      <td>...</td>\n",
       "      <td>...</td>\n",
       "    </tr>\n",
       "    <tr>\n",
       "      <th>1995</th>\n",
       "      <td>1996</td>\n",
       "      <td>2017/12/24-0:58:53:985</td>\n",
       "      <td>Step_LSC</td>\n",
       "      <td>30002312</td>\n",
       "      <td>processHandleBroadcastAction action:android.in...</td>\n",
       "      <td>E44</td>\n",
       "      <td>processHandleBroadcastAction action:android.in...</td>\n",
       "    </tr>\n",
       "    <tr>\n",
       "      <th>1996</th>\n",
       "      <td>1997</td>\n",
       "      <td>2017/12/24-0:59:7:581</td>\n",
       "      <td>Step_LSC</td>\n",
       "      <td>30002312</td>\n",
       "      <td>processHandleBroadcastAction action:android.in...</td>\n",
       "      <td>E44</td>\n",
       "      <td>processHandleBroadcastAction action:android.in...</td>\n",
       "    </tr>\n",
       "    <tr>\n",
       "      <th>1997</th>\n",
       "      <td>1998</td>\n",
       "      <td>2017/12/24-1:0:0:794</td>\n",
       "      <td>Step_LSC</td>\n",
       "      <td>30002312</td>\n",
       "      <td>processHandleBroadcastAction action:android.in...</td>\n",
       "      <td>E44</td>\n",
       "      <td>processHandleBroadcastAction action:android.in...</td>\n",
       "    </tr>\n",
       "    <tr>\n",
       "      <th>1998</th>\n",
       "      <td>1999</td>\n",
       "      <td>2017/12/24-1:1:0:935</td>\n",
       "      <td>Step_LSC</td>\n",
       "      <td>30002312</td>\n",
       "      <td>processHandleBroadcastAction action:android.in...</td>\n",
       "      <td>E44</td>\n",
       "      <td>processHandleBroadcastAction action:android.in...</td>\n",
       "    </tr>\n",
       "    <tr>\n",
       "      <th>1999</th>\n",
       "      <td>2000</td>\n",
       "      <td>2017/12/24-1:2:35:789</td>\n",
       "      <td>Step_LSC</td>\n",
       "      <td>30002312</td>\n",
       "      <td>processHandleBroadcastAction action:android.in...</td>\n",
       "      <td>E44</td>\n",
       "      <td>processHandleBroadcastAction action:android.in...</td>\n",
       "    </tr>\n",
       "  </tbody>\n",
       "</table>\n",
       "<p>2000 rows × 7 columns</p>\n",
       "</div>"
      ],
      "text/plain": [
       "      LineId                     Time                 Component       Pid  \\\n",
       "0          1  2017/12/23-22:15:29:606                  Step_LSC  30002312   \n",
       "1          2  2017/12/23-22:15:29:615                  Step_LSC  30002312   \n",
       "2          3  2017/12/23-22:15:29:633  Step_StandReportReceiver  30002312   \n",
       "3          4  2017/12/23-22:15:29:635                  Step_LSC  30002312   \n",
       "4          5  2017/12/23-22:15:29:635     Step_StandStepCounter  30002312   \n",
       "...      ...                      ...                       ...       ...   \n",
       "1995    1996   2017/12/24-0:58:53:985                  Step_LSC  30002312   \n",
       "1996    1997    2017/12/24-0:59:7:581                  Step_LSC  30002312   \n",
       "1997    1998     2017/12/24-1:0:0:794                  Step_LSC  30002312   \n",
       "1998    1999     2017/12/24-1:1:0:935                  Step_LSC  30002312   \n",
       "1999    2000    2017/12/24-1:2:35:789                  Step_LSC  30002312   \n",
       "\n",
       "                                                Content EventId  \\\n",
       "0                               onStandStepChanged 3579     E42   \n",
       "1                         onExtend:1514038530000 14 0 4     E39   \n",
       "2     onReceive action: android.intent.action.SCREEN_ON     E41   \n",
       "3     processHandleBroadcastAction action:android.in...     E43   \n",
       "4                                     flush sensor data     E12   \n",
       "...                                                 ...     ...   \n",
       "1995  processHandleBroadcastAction action:android.in...     E44   \n",
       "1996  processHandleBroadcastAction action:android.in...     E44   \n",
       "1997  processHandleBroadcastAction action:android.in...     E44   \n",
       "1998  processHandleBroadcastAction action:android.in...     E44   \n",
       "1999  processHandleBroadcastAction action:android.in...     E44   \n",
       "\n",
       "                                          EventTemplate  \n",
       "0                                onStandStepChanged <*>  \n",
       "1                              onExtend:<*> <*> <*> <*>  \n",
       "2     onReceive action: android.intent.action.SCREEN_ON  \n",
       "3     processHandleBroadcastAction action:android.in...  \n",
       "4                                     flush sensor data  \n",
       "...                                                 ...  \n",
       "1995  processHandleBroadcastAction action:android.in...  \n",
       "1996  processHandleBroadcastAction action:android.in...  \n",
       "1997  processHandleBroadcastAction action:android.in...  \n",
       "1998  processHandleBroadcastAction action:android.in...  \n",
       "1999  processHandleBroadcastAction action:android.in...  \n",
       "\n",
       "[2000 rows x 7 columns]"
      ]
     },
     "execution_count": 11,
     "metadata": {},
     "output_type": "execute_result"
    }
   ],
   "source": [
    "data"
   ]
  },
  {
   "cell_type": "code",
   "execution_count": 12,
   "metadata": {},
   "outputs": [
    {
     "name": "stdout",
     "output_type": "stream",
     "text": [
      "1812\n"
     ]
    }
   ],
   "source": [
    "#Out of 2000 entries , 1812 entries are from these top -10 \n",
    "top_event_ids = data[\"EventId\"].value_counts().head(10)\n",
    "print(sum(top_event_ids))"
   ]
  },
  {
   "cell_type": "code",
   "execution_count": 70,
   "metadata": {},
   "outputs": [
    {
     "data": {
      "image/png": "[encoded data removed]",
      "text/plain": [
       "<Figure size 864x864 with 1 Axes>"
      ]
     },
     "metadata": {},
     "output_type": "display_data"
    }
   ],
   "source": [
    "import matplotlib.pyplot as plt\n",
    "\n",
    "event_counts = data['EventId'].value_counts()\n",
    "\n",
    "# Select the top 10 most occurring event IDs\n",
    "top_10_events = event_counts.head(10)\n",
    "\n",
    "# Generate different colors for each bar\n",
    "colors = plt.cm.viridis(range(len(top_10_events)))\n",
    "\n",
    "# Plot the bar graph\n",
    "plt.figure(figsize=(12, 12))\n",
    "bars = plt.bar(top_10_events.index, top_10_events, color=colors)\n",
    "\n",
    "# Display frequency inside each bar\n",
    "for bar in bars:\n",
    "    yval = bar.get_height()\n",
    "    plt.text(bar.get_x() + bar.get_width() / 2, yval, round(yval, 2), ha='center', va='bottom')\n",
    "\n",
    "plt.title('Top 10 Event IDs')\n",
    "plt.xlabel('Event ID')\n",
    "plt.ylabel('Count')\n",
    "plt.show()\n"
   ]
  },
  {
   "cell_type": "code",
   "execution_count": 14,
   "metadata": {},
   "outputs": [
    {
     "data": {
      "image/png": "[encoded data removed]",
      "text/plain": [
       "<Figure size 864x864 with 1 Axes>"
      ]
     },
     "metadata": {},
     "output_type": "display_data"
    }
   ],
   "source": [
    "import matplotlib.pyplot as plt\n",
    "\n",
    "event_counts = data['EventId'].value_counts()\n",
    "\n",
    "# Select the top 10 most occurring event IDs\n",
    "top_10_events = event_counts.head(10)\n",
    "\n",
    "# Calculate the frequency of \"Remaining Id's\"\n",
    "remaining_ids_frequency = event_counts[~event_counts.index.isin(top_10_events.index)].sum()\n",
    "\n",
    "# Combine top 10 events and create a new Series including \"Remaining Id's\"\n",
    "all_events = top_10_events.append(pd.Series(remaining_ids_frequency, index=['Remaining Id\\'s']))\n",
    "\n",
    "# Calculate percentages\n",
    "percentages = all_events / 2000 * 100\n",
    "\n",
    "# Define custom colors for each section\n",
    "custom_colors = ['skyblue', 'orange', 'lightgreen', 'lightcoral', 'lightblue', 'gold', 'lightpink', 'lightsalmon', 'lightseagreen', 'lightsteelblue', 'lightgray']\n",
    "\n",
    "# Plot the pie chart with custom colors\n",
    "plt.figure(figsize=(12, 12))\n",
    "plt.pie(percentages, labels=all_events.index, autopct='%1.1f%%', colors=custom_colors)\n",
    "plt.title('Event ID Distribution')\n",
    "plt.show()"
   ]
  },
  {
   "cell_type": "code",
   "execution_count": 15,
   "metadata": {},
   "outputs": [
    {
     "data": {
      "text/plain": [
       "E39    273\n",
       "E42    260\n",
       "E22    242\n",
       "E58    241\n",
       "E4     241\n",
       "E3     241\n",
       "E44    144\n",
       "E47    136\n",
       "E43     17\n",
       "E12     17\n",
       "Name: EventId, dtype: int64"
      ]
     },
     "execution_count": 15,
     "metadata": {},
     "output_type": "execute_result"
    }
   ],
   "source": [
    "top_10_events"
   ]
  },
  {
   "cell_type": "code",
   "execution_count": 16,
   "metadata": {},
   "outputs": [
    {
     "name": "stdout",
     "output_type": "stream",
     "text": [
      "['E39', 'E42', 'E22', 'E58', 'E4', 'E3', 'E44', 'E47', 'E43', 'E12']\n"
     ]
    }
   ],
   "source": [
    "top_10_events_list = top_10_events.index.tolist()\n",
    "print(top_10_events_list)"
   ]
  },
  {
   "cell_type": "code",
   "execution_count": 17,
   "metadata": {},
   "outputs": [
    {
     "name": "stdout",
     "output_type": "stream",
     "text": [
      "Event ID: E39, Event Template: onExtend:<*> <*> <*> <*>\n",
      " \n",
      "Event ID: E42, Event Template: onStandStepChanged <*>\n",
      " \n",
      "Event ID: E22, Event Template: getTodayTotalDetailSteps = <*>##<*>##<*>##<*>##<*>##<*>\n",
      " \n",
      "Event ID: E58, Event Template: setTodayTotalDetailSteps=<*>\n",
      " \n",
      "Event ID: E4, Event Template: calculateCaloriesWithCache totalCalories=<*>\n",
      " \n",
      "Event ID: E3, Event Template: calculateAltitudeWithCache totalAltitude=<*>\n",
      " \n",
      "Event ID: E44, Event Template: processHandleBroadcastAction action:android.intent.action.TIME_TICK\n",
      " \n",
      "Event ID: E47, Event Template: REPORT : <*> <*> <*> <*>\n",
      " \n",
      "Event ID: E43, Event Template: processHandleBroadcastAction action:android.intent.action.SCREEN_ON\n",
      " \n",
      "Event ID: E12, Event Template: flush sensor data\n",
      " \n"
     ]
    }
   ],
   "source": [
    "# Assuming data_2 is your DataFrame\n",
    "top_10_event_templates = data_2[data_2['EventId'].isin(top_10_events_list)]\n",
    "\n",
    "for event_id in top_10_events_list:\n",
    "    event_template = top_10_event_templates.loc[top_10_event_templates['EventId'] == event_id, 'EventTemplate'].values[0]\n",
    "    print(f\"Event ID: {event_id}, Event Template: {event_template}\")\n",
    "    print(\" \")"
   ]
  },
  {
   "cell_type": "code",
   "execution_count": 67,
   "metadata": {},
   "outputs": [
    {
     "data": {
      "image/png": "[encoded data removed]",
      "text/plain": [
       "<Figure size 1152x1008 with 1 Axes>"
      ]
     },
     "metadata": {},
     "output_type": "display_data"
    }
   ],
   "source": [
    "import matplotlib.pyplot as plt\n",
    "\n",
    "Component_counts = data['Component'].value_counts()\n",
    "\n",
    "# Select the top 10 most occurring event IDs\n",
    "top_5_Component= Component_counts.head(5)\n",
    "\n",
    "# Generate different colors for each bar\n",
    "colors = plt.cm.viridis(range(len(top_5_Component)))\n",
    "\n",
    "# Plot the bar graph\n",
    "plt.figure(figsize=(16, 14))\n",
    "bars = plt.bar(top_5_Component.index, top_5_Component, color=\"red\")\n",
    "\n",
    "# Display frequency inside each bar\n",
    "for bar in bars:\n",
    "    yval = bar.get_height()\n",
    "    plt.text(bar.get_x() + bar.get_width() / 2, yval, round(yval, 2), ha='center', va='bottom')\n",
    "\n",
    "plt.title('Top 5 Component')\n",
    "plt.xlabel('Component')\n",
    "plt.ylabel('Count')\n",
    "plt.show()"
   ]
  },
  {
   "cell_type": "markdown",
   "metadata": {},
   "source": [
    "# Calories & Excercise"
   ]
  },
  {
   "cell_type": "markdown",
   "metadata": {},
   "source": [
    "**Creating a list of all calories **\n",
    "\n",
    "It is achieved when the eventId == \"E4\" ,which is (calculateCaloriesWithCache totalCalories=<*>)\n"
   ]
  },
  {
   "cell_type": "code",
   "execution_count": 19,
   "metadata": {},
   "outputs": [
    {
     "name": "stdout",
     "output_type": "stream",
     "text": [
      "[126775, 126797, 126818, 126861, 126882, 126904, 126925, 126947, 126989, 126989, 127011, 127032, 127054, 127075, 127097, 127118, 127139, 127161, 127182, 127204, 127225, 127246, 127268, 127289, 127311, 127332, 127354, 127375, 127396, 127418, 127439, 127461, 127482, 127504, 127525, 127568, 127589, 127632, 127653, 127696, 127739, 127761, 127782, 127782, 127782, 127824, 127867, 127910, 127953, 127996, 128039, 128081, 128124, 128146, 128210, 128210, 128231, 128274, 128317, 128360, 128403, 128424, 128467, 128510, 128553, 128595, 128638, 128660, 128703, 128745, 128788, 128810, 128831, 128853, 128874, 128895, 128917, 128960, 129002, 129024, 129045, 129067, 129067, 129131, 129238, 129281, 129324, 129366, 129409, 129452, 129516, 129602, 129623, 129923, 129923, 130052, 130052, 130116, 130159, 130201, 130266, 130330, 130351, 130394, 130458, 130501, 130544, 130587, 130608, 130630, 130651, 130673, 130673, 130673, 130673, 130673, 130673, 130673, 130673, 130673, 130673, 130673, 130673, 130673, 130673, 130673, 130673, 130673, 130673, 130673, 130673, 130673, 130673, 130673, 130673, 130673, 130673, 130673, 130673, 130673, 130673, 130673, 130673, 130673, 130673, 130673, 130673, 130673, 130673, 130673, 130673, 130673, 130673, 130673, 130673, 130673, 130673, 130673, 130673, 130715, 130737, 130758, 130822, 130865, 130908, 130951, 131015, 131079, 131144, 131165, 131208, 131208, 131208, 131208, 131208, 131208, 131208, 131208, 131208, 131208, 131208, 131208, 131208, 131208, 131208, 131208, 131208, 131208, 131208, 131208, 131208, 131208, 131208, 131208, 131208, 131208, 131208, 131208, 131208, 131208, 131208, 131208, 131208, 131208, 131208, 131208, 131208, 131208, 131208, 131208, 131208, 131208, 131208, 131208, 131208, 131208, 131208, 0, 0, 0, 0, 0, 0, 0, 0, 0, 0, 0, 0, 0, 0, 0, 0, 0, 0, 0, 0, 0, 0, 0, 0]\n"
     ]
    }
   ],
   "source": [
    "import pandas as pd\n",
    "\n",
    "# Read the CSV file into a DataFrame\n",
    "df = pd.read_csv(\"HealthApp_2k.log_structured.csv\")\n",
    "\n",
    "# Create an empty list to store the calorie values\n",
    "calorie_list = []\n",
    "\n",
    "# Iterate through the rows of the DataFrame\n",
    "for index, row in df.iterrows():\n",
    "    # Check if the EventId is \"E4\"\n",
    "    if row[\"EventId\"] == \"E4\":\n",
    "        # Extract the numerical value of calories\n",
    "        calories = int(row[\"Content\"].split(\"=\")[1])\n",
    "        # Append the calorie value to the list\n",
    "        calorie_list.append(calories)\n",
    "\n",
    "# Print the calorie list\n",
    "print(calorie_list)"
   ]
  },
  {
   "cell_type": "markdown",
   "metadata": {},
   "source": [
    "**Plotting the graph, Value VS E4 Event Id counts** "
   ]
  },
  {
   "cell_type": "code",
   "execution_count": 20,
   "metadata": {},
   "outputs": [
    {
     "data": {
      "image/png": "[encoded data removed]",
      "text/plain": [
       "<Figure size 432x288 with 1 Axes>"
      ]
     },
     "metadata": {},
     "output_type": "display_data"
    }
   ],
   "source": [
    "plt.plot(calorie_list)\n",
    "\n",
    "# Adding title and labels\n",
    "plt.title('Graph for the List of Numbers')\n",
    "plt.xlabel('Index')\n",
    "plt.ylabel('Values')\n",
    "\n",
    "# Display the plot\n",
    "plt.show()"
   ]
  },
  {
   "cell_type": "markdown",
   "metadata": {},
   "source": [
    "**Plotting the graph, Calorie Values vs Time stamp (Intial timestamp and Final timestamp)**\n",
    "\n",
    "It's a time series graph"
   ]
  },
  {
   "cell_type": "code",
   "execution_count": 21,
   "metadata": {},
   "outputs": [
    {
     "data": {
      "image/png": "[encoded data removed]",
      "text/plain": [
       "<Figure size 1080x576 with 1 Axes>"
      ]
     },
     "metadata": {},
     "output_type": "display_data"
    }
   ],
   "source": [
    "import matplotlib.pyplot as plt\n",
    "import seaborn as sns\n",
    "\n",
    "# Your initial and final timestamp values\n",
    "initial_timestamp = \"2017/12/23 - 22:15:29:606\"\n",
    "final_timestamp = \"2017/12/24 - 1:2:35:789\"\n",
    "\n",
    "# Create the plot using Seaborn for a visually appealing style\n",
    "sns.set_style(\"darkgrid\")  # Set a visually appealing style\n",
    "plt.figure(figsize=(15, 8))  # Make the graph larger for better visibility\n",
    "\n",
    "# Plot the data with a clear line and informative markers\n",
    "plt.plot(calorie_list, linewidth=2, marker='o', markersize=8)\n",
    "\n",
    "# Add descriptive labels and title\n",
    "plt.title('Calorie Values Over Time')  # Use a more specific title\n",
    "plt.xlabel('Timestamp')  # Replace 'Index' with 'Timestamp' if applicable\n",
    "plt.ylabel('Calories')\n",
    "\n",
    "# Set x-axis ticks to only display initial and final timestamps\n",
    "plt.xticks([0, len(calorie_list) - 1], [initial_timestamp, final_timestamp])\n",
    "\n",
    "# Enhance readability with gridlines and a tight layout\n",
    "plt.grid(True)\n",
    "plt.tight_layout()\n",
    "\n",
    "# Display the plot\n",
    "plt.show()\n"
   ]
  },
  {
   "cell_type": "markdown",
   "metadata": {},
   "source": [
    "**Storing the time stamp values ,where Event Id == \"E4\"**"
   ]
  },
  {
   "cell_type": "code",
   "execution_count": 22,
   "metadata": {},
   "outputs": [
    {
     "name": "stdout",
     "output_type": "stream",
     "text": [
      "['20171223-22:15:29:645', '20171223-22:15:29:959', '20171223-22:15:30:639', '20171223-22:15:31:157', '20171223-22:15:32:156', '20171223-22:15:32:656', '20171223-22:15:33:148', '20171223-22:15:33:658', '20171223-22:15:35:20', '20171223-22:15:35:104', '20171223-22:15:35:418', '20171223-22:15:36:154', '20171223-22:15:36:668', '20171223-22:15:37:666', '20171223-22:15:38:159', '20171223-22:15:38:665', '20171223-22:15:39:155', '20171223-22:15:39:665', '20171223-22:15:40:668', '20171223-22:15:41:152', '20171223-22:15:41:667', '20171223-22:15:42:160', '20171223-22:15:43:160', '20171223-22:15:43:677', '20171223-22:15:44:163', '20171223-22:15:45:158', '20171223-22:15:45:656', '20171223-22:15:46:157', '20171223-22:15:46:674', '20171223-22:15:47:658', '20171223-22:15:48:167', '20171223-22:15:48:668', '20171223-22:15:49:668', '20171223-22:15:50:176', '20171223-22:15:51:169', '20171223-22:15:52:175', '20171223-22:15:52:666', '20171223-22:15:53:665', '20171223-22:15:54:657', '20171223-22:15:55:657', '20171223-22:15:56:163', '20171223-22:15:58:170', '20171223-22:16:0:159', '20171223-22:16:1:165', '20171223-22:17:19:167', '20171223-22:17:20:662', '20171223-22:17:21:162', '20171223-22:17:21:659', '20171223-22:17:22:162', '20171223-22:17:22:661', '20171223-22:17:23:160', '20171223-22:17:23:662', '20171223-22:17:24:162', '20171223-22:17:24:664', '20171223-22:17:25:159', '20171223-22:17:28:166', '20171223-22:17:45:162', '20171223-22:17:45:663', '20171223-22:17:46:163', '20171223-22:17:46:659', '20171223-22:17:47:163', '20171223-22:17:47:659', '20171223-22:17:48:157', '20171223-22:17:48:656', '20171223-22:17:49:162', '20171223-22:17:49:661', '20171223-22:17:50:156', '20171223-22:17:50:658', '20171223-22:17:51:158', '20171223-22:17:51:673', '20171223-22:17:52:162', '20171223-22:17:53:163', '20171223-22:17:54:167', '20171223-22:17:55:162', '20171223-22:17:55:658', '20171223-22:17:56:666', '20171223-22:17:57:659', '20171223-22:17:58:159', '20171223-22:18:0:168', '20171223-22:18:1:659', '20171223-22:18:2:659', '20171223-22:18:5:673', '20171223-22:18:6:164', '20171223-22:19:8:163', '20171223-22:19:8:675', '20171223-22:19:9:158', '20171223-22:19:9:662', '20171223-22:19:10:160', '20171223-22:19:10:658', '20171223-22:19:11:160', '20171223-22:19:11:658', '20171223-22:19:12:162', '20171223-22:19:12:658', '20171223-22:19:14:677', '20171223-22:19:16:171', '20171223-22:19:57:789', '20171223-22:19:58:109', '20171223-22:19:58:513', '20171223-22:19:59:175', '20171223-22:19:59:677', '20171223-22:20:0:174', '20171223-22:20:0:679', '20171223-22:20:1:181', '20171223-22:20:1:679', '20171223-22:20:2:174', '20171223-22:20:2:678', '20171223-22:20:3:175', '20171223-22:20:4:187', '20171223-22:20:4:673', '20171223-22:20:5:672', '20171223-22:20:7:681', '20171223-22:20:8:180', '20171223-22:20:13:180', '20171223-22:20:16:186', '20171223-22:24:22:214', '20171223-22:24:22:524', '20171223-22:24:52:200', '20171223-22:24:54:201', '20171223-22:24:59:206', '20171223-22:30:24:40', '20171223-22:30:24:355', '20171223-22:31:32:241', '20171223-22:31:59:652', '20171223-22:31:59:965', '20171223-22:33:10:244', '20171223-22:33:46:311', '20171223-22:33:46:622', '20171223-22:37:15:249', '20171223-22:39:25:310', '20171223-22:39:25:625', '20171223-22:45:49:273', '20171223-22:45:55:268', '20171223-22:51:3:275', '20171223-22:51:37:302', '20171223-22:51:37:615', '20171223-22:51:40:641', '20171223-22:51:49:298', '20171223-22:52:45:494', '20171223-22:52:45:810', '20171223-22:52:46:296', '20171223-22:52:52:301', '20171223-22:53:1:219', '20171223-22:53:1:539', '20171223-22:53:7:309', '20171223-22:53:12:731', '20171223-22:53:13:45', '20171223-22:54:55:346', '20171223-22:55:55:746', '20171223-22:55:56:62', '20171223-23:7:6:137', '20171223-23:7:6:453', '20171223-23:7:7:391', '20171223-23:7:50:274', '20171223-23:7:51:235', '20171223-23:8:9:248', '20171223-23:8:19:419', '20171223-23:14:24:399', '20171223-23:14:24:721', '20171223-23:14:25:422', '20171223-23:14:42:925', '20171223-23:14:43:426', '20171223-23:14:43:929', '20171223-23:14:44:425', '20171223-23:14:44:930', '20171223-23:14:45:429', '20171223-23:14:45:916', '20171223-23:14:46:425', '20171223-23:14:46:928', '20171223-23:14:47:421', '20171223-23:14:48:418', '20171223-23:14:48:922', '20171223-23:14:52:421', '20171223-23:16:23:420', '20171223-23:17:41:3', '20171223-23:17:41:309', '20171223-23:17:42:1', '20171223-23:17:42:397', '20171223-23:19:20:456', '20171223-23:19:21:455', '20171223-23:23:15:466', '20171223-23:23:19:463', '20171223-23:29:4:456', '20171223-23:29:5:448', '20171223-23:37:14:451', '20171223-23:37:16:456', '20171223-23:40:10:463', '20171223-23:40:14:457', '20171223-23:42:39:221', '20171223-23:46:7:464', '20171223-23:46:14:457', '20171223-23:50:48:718', '20171223-23:52:57:453', '20171223-23:53:0:450', '20171223-23:53:15:455', '20171223-23:53:17:467', '20171223-23:53:25:452', '20171223-23:53:31:452', '20171223-23:53:40:466', '20171223-23:53:42:456', '20171223-23:53:51:456', '20171223-23:53:57:459', '20171223-23:54:28:462', '20171223-23:54:29:456', '20171223-23:54:34:448', '20171223-23:54:35:460', '20171223-23:54:45:465', '20171223-23:54:47:465', '20171223-23:54:54:448', '20171223-23:54:56:468', '20171223-23:55:24:467', '20171223-23:55:25:456', '20171223-23:56:12:465', '20171223-23:56:13:454', '20171223-23:56:28:460', '20171223-23:56:35:460', '20171223-23:57:34:457', '20171223-23:57:42:464', '20171224-0:0:0:235', '20171224-0:0:0:628', '20171224-0:0:5:444', '20171224-0:0:6:451', '20171224-0:5:22:779', '20171224-0:6:16:871', '20171224-0:7:2:445', '20171224-0:7:4:447', '20171224-0:7:20:444', '20171224-0:7:21:447', '20171224-0:9:4:460', '20171224-0:9:6:450', '20171224-0:9:34:446', '20171224-0:9:35:448', '20171224-0:10:9:443', '20171224-0:10:10:446', '20171224-0:10:42:445', '20171224-0:10:43:447', '20171224-0:11:56:453', '20171224-0:11:57:449', '20171224-0:15:53:292', '20171224-0:25:16:445', '20171224-0:25:17:445', '20171224-0:28:25:461']\n"
     ]
    }
   ],
   "source": [
    "import pandas as pd\n",
    "\n",
    "# Read the CSV file into a DataFrame\n",
    "df = pd.read_csv(\"HealthApp_2k.log_structured.csv\")\n",
    "\n",
    "# Create an empty list to store timestamp values\n",
    "timestamp_list = []\n",
    "\n",
    "# Iterate through the rows of the DataFrame\n",
    "for index, row in df.iterrows():\n",
    "    # Check if the EventId is \"E4\"\n",
    "    if row[\"EventId\"] == \"E4\":\n",
    "        # Append the timestamp value to the list\n",
    "        timestamp_list.append(row[\"Time\"])\n",
    "\n",
    "# Print the timestamp list\n",
    "print(timestamp_list)\n"
   ]
  },
  {
   "cell_type": "markdown",
   "metadata": {},
   "source": [
    "**Storing the calories values with respective the time stamp**"
   ]
  },
  {
   "cell_type": "code",
   "execution_count": 23,
   "metadata": {},
   "outputs": [
    {
     "name": "stdout",
     "output_type": "stream",
     "text": [
      "[[126797, 126818, 126861, 126882, 126904, 126925, 126947, 126989, 126989, 127011, 127032, 127054, 127075, 127097, 127118, 127139, 127161, 127182, 127204, 127225, 127246, 127268, 127289, 127311, 127332, 127354, 127375, 127396, 127418, 127439, 127461, 127482, 127504, 127525, 127568, 127589, 127632, 127653, 127696, 127739, 127761, 127782, 127782, 127782, 127824, 127867, 127910, 127953, 127996, 128039, 128081, 128124, 128146, 128210, 128210, 128231, 128274, 128317, 128360, 128403, 128424, 128467, 128510, 128553, 128595, 128638, 128660, 128703, 128745, 128788, 128810, 128831, 128853, 128874, 128895, 128917, 128960, 129002, 129024, 129045, 129067, 129067, 129131, 129238, 129281, 129324, 129366, 129409, 129452, 129516, 129602, 129623, 129923, 129923, 130052, 130052, 130116, 130159, 130201, 130266, 130330, 130351, 130394, 130458, 130501, 130544, 130587, 130608, 130630, 130651, 130673, 130673, 130673], [130715, 130737, 130758, 130822, 130865, 130908, 130951, 131015, 131079, 131144, 131165, 131208, 131208, 131208]]\n"
     ]
    }
   ],
   "source": [
    "lst = calorie_list\n",
    "\n",
    "# Create a list to store the result after breaking the conditions\n",
    "output_lst = []\n",
    "result_list = []\n",
    "\n",
    "# Variable to keep track of the count of equal values\n",
    "equal_count = 1\n",
    "\n",
    "# Iterate through the elements in the original list\n",
    "for i in range(1, len(lst)):\n",
    "    # Check if values are increasing or equal for 3 or more times\n",
    "    if lst[i] > lst[i - 1]:\n",
    "        result_list.append(lst[i])\n",
    "        equal_count = 1  # Reset equal count if the values are increasing\n",
    "    elif lst[i] == lst[i - 1]:\n",
    "        equal_count += 1  # Increment equal count if the values are equal\n",
    "        # Check if the previous element is the same for the third time\n",
    "        if equal_count > 3:\n",
    "            # Break and start a new sub-list\n",
    "            output_lst.append(result_list)\n",
    "            result_list = []\n",
    "        else:\n",
    "            result_list.append(lst[i])\n",
    "    else:\n",
    "        # Break if the value is lesser than its previous element\n",
    "        output_lst.append(result_list)\n",
    "        result_list = []\n",
    "\n",
    "# Add the last sublist to the output list\n",
    "output_lst.append(result_list)\n",
    "\n",
    "# Filter out empty sublists from the output list\n",
    "output_lst = [sublist for sublist in output_lst if sublist]\n",
    "\n",
    "# Print the output list\n",
    "print(output_lst)\n"
   ]
  },
  {
   "cell_type": "code",
   "execution_count": 24,
   "metadata": {},
   "outputs": [
    {
     "name": "stdout",
     "output_type": "stream",
     "text": [
      "[['20171223-22:15:29:959', '20171223-22:24:22:214'], ['20171223-23:14:42:925', '20171223-23:17:41:3']]\n",
      " \n",
      "Total calories burined during intense Excercise:  3940\n"
     ]
    }
   ],
   "source": [
    "req_timeStamps = []\n",
    "for i in output_lst: \n",
    "    x = calorie_list.index(i[0])\n",
    "    req_timeStamps.append(x)  \n",
    "len_outputlist = []\n",
    "for i in output_lst:\n",
    "    len_outputlist.append(len(i))\n",
    "res = []\n",
    "for i in range(len(output_lst)):\n",
    "    y= []\n",
    "    y.append(timestamp_list[req_timeStamps[i]])\n",
    "    z = req_timeStamps[i] + len_outputlist[i]\n",
    "    y.append(timestamp_list[z])\n",
    "    res.append(y)  \n",
    "print(res)\n",
    "calories_burned = []\n",
    "Total_cal_burned = output_lst[1][1] - output_lst[0][0]\n",
    "print(\" \")\n",
    "print(\"Total calories burined during intense Excercise: \",Total_cal_burned)\n"
   ]
  },
  {
   "cell_type": "markdown",
   "metadata": {},
   "source": [
    "**Observation**\n",
    "\n",
    "**1) The calories burned during the 20171223-22:15:29:959 to 20171223-22:24:22:214 and 20171223-23:14:42:925 to 20171223-23:17:41:3 is more among the all time stamps**\n",
    "\n",
    "**2) Overall calories burned during time period is 3940.**\n",
    "\n",
    "**3) The overall excercise time period is about 1hr 2mins (starting from 22:15:29:959 to 23:17:41:3)**"
   ]
  },
  {
   "cell_type": "markdown",
   "metadata": {},
   "source": [
    "# Steps"
   ]
  },
  {
   "cell_type": "markdown",
   "metadata": {},
   "source": [
    "**When EventId == 42 , appending the values of steps to a new list**"
   ]
  },
  {
   "cell_type": "code",
   "execution_count": 25,
   "metadata": {},
   "outputs": [
    {
     "name": "stdout",
     "output_type": "stream",
     "text": [
      "[3579, 3579, 3579, 3580, 3581, 3583, 3584, 3585, 3586, 3587, 3588, 3589, 3589, 3589, 3590, 3591, 3592, 3593, 3594, 3595, 3596, 3597, 3598, 3599, 3600, 3601, 3602, 3603, 3604, 3605, 3606, 3607, 3608, 3609, 3610, 3611, 3612, 3613, 3614, 3616, 3617, 3619, 3620, 3622, 3624, 3625, 3626, 3626, 3626, 3628, 3630, 3632, 3634, 3636, 3638, 3640, 3642, 3643, 3646, 3646, 3647, 3649, 3651, 3653, 3655, 3656, 3658, 3660, 3662, 3664, 3666, 3667, 3669, 3671, 3673, 3674, 3675, 3676, 3677, 3678, 3679, 3681, 3683, 3684, 3685, 3686, 3686, 3689, 3694, 3696, 3698, 3700, 3702, 3704, 3707, 3711, 3712, 3726, 3726, 3732, 3732, 3732, 3732, 3735, 3737, 3739, 3742, 3745, 3746, 3748, 3751, 3753, 3755, 3757, 3758, 3759, 3760, 3761, 3761, 3761, 3761, 3761, 3761, 3761, 3761, 3761, 3761, 3761, 3761, 3761, 3761, 3761, 3761, 3761, 3761, 3761, 3761, 3761, 3761, 3761, 3761, 3761, 3761, 3761, 3761, 3761, 3761, 3761, 3761, 3761, 3761, 3761, 3761, 3761, 3761, 3761, 3761, 3761, 3761, 3761, 3761, 3761, 3761, 3761, 3761, 3761, 3761, 3761, 3761, 3761, 3761, 3761, 3761, 3761, 3761, 3761, 3763, 3764, 3765, 3768, 3770, 3772, 3774, 3777, 3780, 3783, 3784, 3786, 3786, 3786, 3786, 3786, 3786, 3786, 3786, 3786, 3786, 3786, 3786, 3786, 3786, 3786, 3786, 3786, 3786, 3786, 3786, 3786, 3786, 3786, 3786, 3786, 3786, 3786, 3786, 3786, 3786, 3786, 3786, 3786, 3786, 3786, 3786, 3786, 3786, 3786, 3786, 3786, 3786, 3786, 3786, 3786, 3786, 3786, 3786, 3786, 3786, 3786, 3786, 3786, 3786, 3786, 3786, 3786, 3786, 3786, 3786, 3786, 3786, 3786, 3786, 3786, 3786, 3786, 3786, 3786, 3786, 3786, 3786, 3786]\n"
     ]
    }
   ],
   "source": [
    "import pandas as pd\n",
    "\n",
    "# Read the CSV file into a DataFrame\n",
    "df = pd.read_csv(\"HealthApp_2k.log_structured.csv\")\n",
    "\n",
    "# Create an empty list to store the steps values\n",
    "steps_list = []\n",
    "\n",
    "# Iterate through the rows of the DataFrame\n",
    "for index, row in df.iterrows():\n",
    "    # Check if the EventId is \"E42\"\n",
    "    if row[\"EventId\"] == \"E42\":\n",
    "        # Extract the numerical value of steps from the \"Content\" column\n",
    "        steps_value = int(row[\"Content\"].split()[-1])\n",
    "        # Append the steps value to the list\n",
    "        steps_list.append(steps_value)\n",
    "\n",
    "# Print the steps list\n",
    "print(steps_list)\n"
   ]
  },
  {
   "cell_type": "markdown",
   "metadata": {},
   "source": [
    "**Getting the \"Time Stamps\" wrt Steps.**"
   ]
  },
  {
   "cell_type": "code",
   "execution_count": 26,
   "metadata": {},
   "outputs": [
    {
     "name": "stdout",
     "output_type": "stream",
     "text": [
      "['20171223-22:15:29:606', '20171223-22:15:29:636', '20171223-22:15:29:738', '20171223-22:15:29:792', '20171223-22:15:30:331', '20171223-22:15:30:841', '20171223-22:15:31:841', '20171223-22:15:32:340', '20171223-22:15:32:840', '20171223-22:15:33:341', '20171223-22:15:34:711', '20171223-22:15:34:848', '20171223-22:15:35:98', '20171223-22:15:35:198', '20171223-22:15:35:348', '20171223-22:15:35:848', '20171223-22:15:36:356', '20171223-22:15:37:351', '20171223-22:15:37:848', '20171223-22:15:38:349', '20171223-22:15:38:850', '20171223-22:15:39:348', '20171223-22:15:40:349', '20171223-22:15:40:848', '20171223-22:15:41:353', '20171223-22:15:41:848', '20171223-22:15:42:848', '20171223-22:15:43:348', '20171223-22:15:43:850', '20171223-22:15:44:849', '20171223-22:15:45:348', '20171223-22:15:45:848', '20171223-22:15:46:349', '20171223-22:15:47:349', '20171223-22:15:47:857', '20171223-22:15:48:350', '20171223-22:15:49:350', '20171223-22:15:49:858', '20171223-22:15:50:850', '20171223-22:15:51:859', '20171223-22:15:52:349', '20171223-22:15:53:349', '20171223-22:15:54:350', '20171223-22:15:55:349', '20171223-22:15:55:848', '20171223-22:15:57:851', '20171223-22:15:59:849', '20171223-22:16:0:849', '20171223-22:17:18:850', '20171223-22:17:20:348', '20171223-22:17:20:853', '20171223-22:17:21:348', '20171223-22:17:21:850', '20171223-22:17:22:348', '20171223-22:17:22:849', '20171223-22:17:23:348', '20171223-22:17:23:851', '20171223-22:17:24:348', '20171223-22:17:24:848', '20171223-22:17:27:855', '20171223-22:17:44:849', '20171223-22:17:45:348', '20171223-22:17:45:851', '20171223-22:17:46:349', '20171223-22:17:46:848', '20171223-22:17:47:349', '20171223-22:17:47:848', '20171223-22:17:48:348', '20171223-22:17:48:848', '20171223-22:17:49:353', '20171223-22:17:49:848', '20171223-22:17:50:348', '20171223-22:17:50:849', '20171223-22:17:51:362', '20171223-22:17:51:848', '20171223-22:17:52:848', '20171223-22:17:53:849', '20171223-22:17:54:849', '20171223-22:17:55:348', '20171223-22:17:56:349', '20171223-22:17:57:349', '20171223-22:17:57:849', '20171223-22:17:59:858', '20171223-22:18:1:349', '20171223-22:18:2:349', '20171223-22:18:5:351', '20171223-22:18:5:849', '20171223-22:19:7:854', '20171223-22:19:8:357', '20171223-22:19:8:849', '20171223-22:19:9:348', '20171223-22:19:9:849', '20171223-22:19:10:348', '20171223-22:19:10:848', '20171223-22:19:11:349', '20171223-22:19:11:848', '20171223-22:19:12:349', '20171223-22:19:14:349', '20171223-22:19:15:855', '20171223-22:19:57:751', '20171223-22:19:57:758', '20171223-22:19:57:780', '20171223-22:19:57:878', '20171223-22:19:58:363', '20171223-22:19:58:863', '20171223-22:19:59:365', '20171223-22:19:59:862', '20171223-22:20:0:363', '20171223-22:20:0:863', '20171223-22:20:1:363', '20171223-22:20:1:863', '20171223-22:20:2:365', '20171223-22:20:2:863', '20171223-22:20:3:862', '20171223-22:20:4:362', '20171223-22:20:5:362', '20171223-22:20:7:364', '20171223-22:20:7:864', '20171223-22:20:12:863', '20171223-22:20:15:873', '20171223-22:24:22:157', '20171223-22:24:22:208', '20171223-22:24:22:309', '20171223-22:24:51:883', '20171223-22:24:53:884', '20171223-22:24:58:889', '20171223-22:30:23:988', '20171223-22:30:24:28', '20171223-22:30:24:129', '20171223-22:31:31:924', '20171223-22:31:59:613', '20171223-22:31:59:621', '20171223-22:31:59:723', '20171223-22:33:9:926', '20171223-22:33:46:274', '20171223-22:33:46:305', '20171223-22:33:46:405', '20171223-22:37:14:939', '20171223-22:39:25:260', '20171223-22:39:25:306', '20171223-22:39:25:402', '20171223-22:45:48:956', '20171223-22:45:54:954', '20171223-22:51:2:965', '20171223-22:51:37:252', '20171223-22:51:37:295', '20171223-22:51:37:393', '20171223-22:51:40:331', '20171223-22:51:48:980', '20171223-22:52:45:412', '20171223-22:52:45:487', '20171223-22:52:45:587', '20171223-22:52:45:985', '20171223-22:52:51:987', '20171223-22:53:1:177', '20171223-22:53:1:218', '20171223-22:53:1:315', '20171223-22:53:6:996', '20171223-22:53:12:698', '20171223-22:53:12:720', '20171223-22:53:12:818', '20171223-22:53:13:15', '20171223-22:54:55:20', '20171223-22:55:55:699', '20171223-22:55:55:735', '20171223-22:55:55:834', '20171223-22:55:56:24', '20171223-23:7:6:75', '20171223-23:7:6:126', '20171223-23:7:6:226', '20171223-23:7:7:71', '20171223-23:8:19:101', '20171223-23:14:24:380', '20171223-23:14:24:392', '20171223-23:14:24:494', '20171223-23:14:25:106', '20171223-23:14:42:607', '20171223-23:14:43:108', '20171223-23:14:43:611', '20171223-23:14:44:108', '20171223-23:14:44:610', '20171223-23:14:45:108', '20171223-23:14:45:607', '20171223-23:14:46:106', '20171223-23:14:46:608', '20171223-23:14:47:109', '20171223-23:14:48:107', '20171223-23:14:48:606', '20171223-23:14:52:109', '20171223-23:16:23:109', '20171223-23:17:40:773', '20171223-23:17:40:997', '20171223-23:17:41:97', '20171223-23:17:41:692', '20171223-23:17:41:991', '20171223-23:17:42:91', '20171223-23:19:20:138', '20171223-23:19:21:138', '20171223-23:23:15:139', '20171223-23:23:19:141', '20171223-23:29:4:137', '20171223-23:29:5:137', '20171223-23:37:14:139', '20171223-23:37:16:138', '20171223-23:40:10:144', '20171223-23:40:14:139', '20171223-23:42:38:906', '20171223-23:46:7:137', '20171223-23:46:14:137', '20171223-23:50:48:406', '20171223-23:52:57:138', '20171223-23:53:0:141', '20171223-23:53:15:137', '20171223-23:53:17:137', '20171223-23:53:25:139', '20171223-23:53:31:137', '20171223-23:53:40:143', '20171223-23:53:42:137', '20171223-23:53:51:138', '20171223-23:53:57:143', '20171223-23:54:28:137', '20171223-23:54:29:137', '20171223-23:54:34:138', '20171223-23:54:35:137', '20171223-23:54:45:137', '20171223-23:54:47:146', '20171223-23:54:54:138', '20171223-23:54:56:137', '20171223-23:55:24:138', '20171223-23:55:25:137', '20171223-23:56:12:138', '20171223-23:56:13:144', '20171223-23:56:28:137', '20171223-23:56:35:137', '20171223-23:57:34:138', '20171223-23:57:42:138', '20171224-0:0:0:223', '20171224-0:0:0:323', '20171224-0:0:5:137', '20171224-0:0:6:144', '20171224-0:5:22:473', '20171224-0:6:16:562', '20171224-0:7:2:137', '20171224-0:7:4:137', '20171224-0:7:20:137', '20171224-0:7:21:138', '20171224-0:9:4:137', '20171224-0:9:6:137', '20171224-0:9:34:137', '20171224-0:9:35:137', '20171224-0:10:9:136', '20171224-0:10:10:137', '20171224-0:10:42:137', '20171224-0:10:43:138', '20171224-0:11:56:143', '20171224-0:11:57:141', '20171224-0:15:52:983', '20171224-0:25:16:137', '20171224-0:25:17:137', '20171224-0:28:25:151']\n"
     ]
    }
   ],
   "source": [
    "import pandas as pd\n",
    "\n",
    "# Read the CSV file into a DataFrame\n",
    "df = pd.read_csv(\"HealthApp_2k.log_structured.csv\")\n",
    "\n",
    "# Create an empty list to store the timestamps\n",
    "timestamps_list = []\n",
    "\n",
    "# Iterate through the rows of the DataFrame\n",
    "for index, row in df.iterrows():\n",
    "    # Check if the EventId is \"E42\"\n",
    "    if row[\"EventId\"] == \"E42\":\n",
    "        # Extract the timestamp from the row\n",
    "        timestamp = row[\"Time\"]\n",
    "        # Append the timestamp to the list\n",
    "        timestamps_list.append(timestamp)\n",
    "\n",
    "# Print the timestamps list\n",
    "print(timestamps_list)"
   ]
  },
  {
   "cell_type": "markdown",
   "metadata": {},
   "source": [
    "**Plotting Steps**"
   ]
  },
  {
   "cell_type": "code",
   "execution_count": 27,
   "metadata": {},
   "outputs": [
    {
     "data": {
      "image/png": "[encoded data removed]",
      "text/plain": [
       "<Figure size 864x432 with 1 Axes>"
      ]
     },
     "metadata": {},
     "output_type": "display_data"
    }
   ],
   "source": [
    "import matplotlib.pyplot as plt\n",
    "import seaborn as sns\n",
    "\n",
    "# Set Seaborn style\n",
    "sns.set_style(\"whitegrid\")\n",
    "\n",
    "# Create the figure\n",
    "plt.figure(figsize=(12, 6))\n",
    "\n",
    "# Use timestamps_list for x-axis ticks\n",
    "plt.bar(range(len(steps_list)), steps_list, color='skyblue', edgecolor='black')\n",
    "\n",
    "# Add labels and title\n",
    "plt.xlabel('Timestamp', fontsize=12)\n",
    "plt.ylabel('Steps Value', fontsize=12)\n",
    "plt.title('Steps', fontsize=16)\n",
    "\n",
    "# Set y-axis range\n",
    "plt.ylim(3500, 3800)\n",
    "\n",
    "# Customize x-axis ticks using timestamps_list\n",
    "plt.xticks([0, 50, 100, 150, 200, 250], labels=timestamps_list[::50], rotation=45)  # Rotate for readability\n",
    "\n",
    "# Add gridlines\n",
    "plt.grid(axis='y', linestyle='--', alpha=0.7)\n",
    "\n",
    "# Adjust spacing\n",
    "plt.tight_layout()\n",
    "\n",
    "# Show the plot\n",
    "plt.show()\n"
   ]
  },
  {
   "cell_type": "markdown",
   "metadata": {},
   "source": [
    "**Bar Plot  wrt time stamps mentioned.**"
   ]
  },
  {
   "cell_type": "code",
   "execution_count": 28,
   "metadata": {},
   "outputs": [
    {
     "data": {
      "image/png": "[encoded data removed]",
      "text/plain": [
       "<Figure size 864x432 with 1 Axes>"
      ]
     },
     "metadata": {},
     "output_type": "display_data"
    }
   ],
   "source": [
    "import matplotlib.pyplot as plt\n",
    "import seaborn as sns\n",
    "\n",
    "# Set Seaborn style\n",
    "sns.set_style(\"whitegrid\")\n",
    "\n",
    "# Create the figure\n",
    "plt.figure(figsize=(12, 6))\n",
    "\n",
    "# Replace x-axis with timestamps\n",
    "bars = plt.bar(timestamps_list[::50], steps_list[::50], color='skyblue', edgecolor='black')  # Use timestamps for x-axis\n",
    "\n",
    "# Add labels and title\n",
    "plt.xlabel('Timestamp', fontsize=12)\n",
    "plt.ylabel('Steps Value', fontsize=12)\n",
    "plt.title('Steps', fontsize=16)\n",
    "\n",
    "# Set y-axis range\n",
    "plt.ylim(3500, 3800)\n",
    "\n",
    "# Add gridlines\n",
    "plt.grid(axis='y', linestyle='--', alpha=0.7)\n",
    "\n",
    "# Annotate each bar with its corresponding step value\n",
    "for bar, step_value in zip(bars, steps_list[::50]):\n",
    "    plt.text(bar.get_x() + bar.get_width() / 2, bar.get_height(), str(step_value),\n",
    "             ha='center', va='bottom', fontsize=12, color='black')\n",
    "\n",
    "# Adjust spacing\n",
    "plt.tight_layout()\n",
    "\n",
    "# Show the plot\n",
    "plt.show()\n"
   ]
  },
  {
   "cell_type": "code",
   "execution_count": 30,
   "metadata": {},
   "outputs": [
    {
     "name": "stdout",
     "output_type": "stream",
     "text": [
      "207\n"
     ]
    }
   ],
   "source": [
    "Total_steps = abs(max(steps_list) - min(steps_list))\n",
    "print(Total_steps)"
   ]
  },
  {
   "cell_type": "code",
   "execution_count": 53,
   "metadata": {},
   "outputs": [
    {
     "name": "stdout",
     "output_type": "stream",
     "text": [
      "[3761, 3786]\n",
      "[['20171223-22:20:7:864', '20171223-23:14:25:106'], ['20171223-23:14:48:606', '20171224-0:28:25:151']]\n"
     ]
    }
   ],
   "source": [
    "set_steps = set(steps_list)\n",
    "lst = []\n",
    "for i in set_steps:\n",
    "    \n",
    "    if steps_list.count(i)>5:\n",
    "        lst.append(i)\n",
    "print(lst) # The steps values where their are constant.\n",
    "res = []\n",
    "for i in lst:\n",
    "    count = 0\n",
    "    for j in steps_list:\n",
    "        if i == j:\n",
    "            count = count + 1\n",
    "    res.append(count)\n",
    "        \n",
    "output_timestamp = []\n",
    "for i in range(len(res)):\n",
    "    x = steps_list.index(lst[i])\n",
    "    y = x + res[i] -1\n",
    "    time_stamp = []\n",
    "    time_stamp.append(timestamps_list[x])\n",
    "    time_stamp.append(timestamps_list[y])\n",
    "    output_timestamp.append(time_stamp)\n",
    "    \n",
    "print(output_timestamp) # During these time stamps the steps are constant"
   ]
  },
  {
   "cell_type": "markdown",
   "metadata": {},
   "source": [
    "**Observations**\n",
    "\n",
    "**1) The total steps taken by the person are 207 **\n",
    "\n",
    "**2) At step number 3761 and 3786, the person was not taking steps futher for a long period of time**\n",
    "\n",
    "**3) During the time stamps '20171223-22:20:7:864' to '20171223-23:14:25:106' and '20171223-23:14:48:606' to '20171224-0:28:25:151' , the steps are constant.**"
   ]
  },
  {
   "cell_type": "markdown",
   "metadata": {},
   "source": [
    "# Altitudes"
   ]
  },
  {
   "cell_type": "code",
   "execution_count": 57,
   "metadata": {},
   "outputs": [
    {
     "name": "stdout",
     "output_type": "stream",
     "text": [
      "Altitudes: [240, 240, 240, 240, 240, 240, 240, 240, 240, 240, 240, 240, 240, 240, 240, 240, 240, 240, 240, 240, 240, 240, 240, 240, 240, 240, 240, 240, 240, 240, 240, 240, 240, 240, 240, 240, 240, 240, 240, 240, 240, 240, 240, 240, 240, 240, 240, 240, 240, 240, 240, 240, 240, 240, 240, 240, 240, 240, 240, 240, 240, 240, 240, 240, 240, 240, 240, 240, 240, 240, 240, 240, 240, 240, 240, 240, 240, 240, 240, 240, 240, 240, 240, 240, 240, 240, 240, 240, 240, 240, 240, 240, 240, 240, 240, 240, 240, 240, 240, 240, 240, 240, 240, 240, 240, 240, 240, 240, 240, 240, 240, 240, 240, 240, 240, 240, 240, 240, 240, 240, 240, 240, 240, 240, 240, 240, 240, 240, 240, 240, 240, 240, 240, 240, 240, 240, 240, 240, 240, 240, 240, 240, 240, 240, 240, 240, 240, 240, 240, 240, 240, 240, 240, 240, 240, 240, 240, 240, 240, 240, 240, 240, 240, 240, 240, 240, 240, 240, 240, 240, 240, 240, 240, 240, 240, 240, 240, 240, 240, 240, 240, 240, 240, 240, 240, 240, 240, 240, 240, 240, 240, 240, 240, 240, 240, 240, 240, 240, 240, 240, 240, 240, 240, 240, 240, 240, 240, 240, 240, 240, 240, 240, 240, 240, 240, 240, 240, 0, 0, 0, 0, 0, 0, 0, 0, 0, 0, 0, 0, 0, 0, 0, 0, 0, 0, 0, 0, 0, 0, 0, 0]\n"
     ]
    }
   ],
   "source": [
    "Altitudes = []\n",
    "\n",
    "# Iterate through the DataFrame and extract numerical values when Event Id is \"E3\"\n",
    "for index, row in data.iterrows():\n",
    "    if row[\"EventId\"] == \"E3\":\n",
    "        # Extract numerical values from content\n",
    "        altitude_value = int(row[\"Content\"].split(\"totalAltitude=\")[1])\n",
    "        Altitudes.append(altitude_value)\n",
    "\n",
    "# Print the Altitudes list\n",
    "print(\"Altitudes:\", Altitudes)"
   ]
  },
  {
   "cell_type": "code",
   "execution_count": 66,
   "metadata": {},
   "outputs": [
    {
     "data": {
      "image/png": "[encoded data removed]",
      "text/plain": [
       "<Figure size 432x288 with 1 Axes>"
      ]
     },
     "metadata": {},
     "output_type": "display_data"
    }
   ],
   "source": [
    "import matplotlib.pyplot as plt\n",
    "\n",
    "# Create a list with the altitude value (240 in this case)\n",
    "Altitudes = [240]\n",
    "\n",
    "# Plotting the point for the altitude value\n",
    "plt.scatter([0], Altitudes, color='red', marker='o')\n",
    "\n",
    "# Adding labels and title\n",
    "\n",
    "plt.ylabel('Altitude Values', fontsize=12)\n",
    "plt.title('Altitude Value', fontsize=16)\n",
    "\n",
    "# Display the plot\n",
    "plt.show()\n"
   ]
  },
  {
   "cell_type": "markdown",
   "metadata": {},
   "source": [
    "**Observations**\n",
    "\n",
    "**1) The altitude or height is 240**\n",
    "\n",
    "**2) Since Altitude is always the same,so there is no change in as time progresses**\n",
    "\n",
    "**3) The \"Zeros\" in Altitude values is because the app have been reset.**"
   ]
  },
  {
   "cell_type": "markdown",
   "metadata": {},
   "source": [
    "# Other Observations"
   ]
  },
  {
   "cell_type": "markdown",
   "metadata": {},
   "source": [
    "1) **The health App had been reset once (So we see the constant or zero values)**\n",
    "\n",
    "2) **['E39', 'E42', 'E22', 'E58', 'E4', 'E3', 'E44', 'E47', 'E43', 'E12'] These are top 10 most used EventIds**\n",
    "\n",
    "3) **[Step_LSC,Step_SPUtils,Step_ExtSDM,Step_StandReportReceiver,HiH_HiSyncControl] These are top 5 most used terms in Component**\n",
    "\n",
    "4) **No Null values in the data**\n",
    "\n",
    "5) **We need much more data to draw insights more grippingly.**\n",
    "\n",
    "6) **Active Times for the person is when he excercises or walking ( The time stamps mentioned in above observations).**"
   ]
  }
 ],
 "metadata": {
  "kernelspec": {
   "display_name": "Python 3",
   "language": "python",
   "name": "python3"
  },
  "language_info": {
   "codemirror_mode": {
    "name": "ipython",
    "version": 3
   },
   "file_extension": ".py",
   "mimetype": "text/x-python",
   "name": "python",
   "nbconvert_exporter": "python",
   "pygments_lexer": "ipython3",
   "version": "3.6.5"
  }
 },
 "nbformat": 4,
 "nbformat_minor": 2
}
